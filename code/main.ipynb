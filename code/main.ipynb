{
 "cells": [
  {
   "cell_type": "code",
   "execution_count": 2,
   "metadata": {},
   "outputs": [
    {
     "name": "stderr",
     "output_type": "stream",
     "text": [
      "/home/konstantinos/miniconda3/envs/thesis/lib/python3.10/site-packages/tqdm/auto.py:21: TqdmWarning: IProgress not found. Please update jupyter and ipywidgets. See https://ipywidgets.readthedocs.io/en/stable/user_install.html\n",
      "  from .autonotebook import tqdm as notebook_tqdm\n",
      "/home/konstantinos/miniconda3/envs/thesis/lib/python3.10/site-packages/statsforecast/utils.py:236: FutureWarning: 'M' is deprecated and will be removed in a future version, please use 'ME' instead.\n",
      "  \"ds\": pd.date_range(start=\"1949-01-01\", periods=len(AirPassengers), freq=\"M\"),\n"
     ]
    }
   ],
   "source": [
    "import pickle\n",
    "from functools import partial\n",
    "from multiprocessing.pool import Pool\n",
    "from pathlib import Path\n",
    "from typing import Any, Callable, Optional\n",
    "\n",
    "import darts\n",
    "import matplotlib.pyplot as plt\n",
    "import numpy as np\n",
    "import optuna\n",
    "import pandas as pd\n",
    "from darts.dataprocessing.transformers import Scaler\n",
    "from darts.models import AutoARIMA, NBEATSModel\n",
    "from darts.models.forecasting.forecasting_model import ForecastingModel\n",
    "from darts.timeseries import TimeSeries\n",
    "from darts.utils.data import TrainingDataset\n",
    "from darts.utils.missing_values import fill_missing_values\n",
    "from sklearn.preprocessing import MinMaxScaler, StandardScaler"
   ]
  },
  {
   "cell_type": "markdown",
   "metadata": {},
   "source": [
    "## Data Loading"
   ]
  },
  {
   "cell_type": "code",
   "execution_count": 3,
   "metadata": {},
   "outputs": [
    {
     "name": "stderr",
     "output_type": "stream",
     "text": [
      "/tmp/ipykernel_4267/549808843.py:13: FutureWarning: 'H' is deprecated and will be removed in a future version, please use 'h' instead.\n",
      "  df = df.resample(freq).mean()\n"
     ]
    }
   ],
   "source": [
    "def load_electricity_consumption(\n",
    "    file_path=Path(\"data\", \"LD2011_2014.txt\"),\n",
    "    freq=\"2H\",\n",
    "    start_time=\"2014-01-02 00:00:00\",\n",
    "    end_time=\"2014-09-01 00:00:00\",\n",
    "    components=[f\"MT_{i:03}\" for i in range(1, 51)],\n",
    ") -> TimeSeries:\n",
    "    df = pd.read_csv(file_path, sep=\";\", index_col=0, parse_dates=True, decimal=\",\")\n",
    "    # df = df.replace(0, np.nan)\n",
    "\n",
    "    df = df.loc[start_time:end_time, components]\n",
    "\n",
    "    df = df.resample(freq).mean()\n",
    "\n",
    "    ts = TimeSeries.from_dataframe(df, freq=freq)\n",
    "\n",
    "    ts = ts.astype(np.dtype(\"float32\"))\n",
    "\n",
    "    return ts\n",
    "\n",
    "\n",
    "ts = load_electricity_consumption()\n",
    "# ts = fill_missing_values(ts, interpolate_kwargs=dict(method='time'))\n",
    "assert not ts.pd_dataframe(copy=False).isna().any(axis=None)"
   ]
  },
  {
   "cell_type": "markdown",
   "metadata": {},
   "source": [
    "## Splitting and Normalization\n",
    "\n",
    "https://www.tensorflow.org/tutorials/structured_data/time_series#normalize_the_data\n",
    "\n",
    "> It is important to scale features before training a neural network. Normalization is a common way of doing this scaling: subtract the mean and divide by the standard deviation of each feature.\n",
    ">\n",
    "> The mean and standard deviation should only be computed using the training data so that the models have no access to the values in the validation and test sets.\n",
    ">\n",
    "> It's also arguable that the model shouldn't have access to future values in the training set when training, and that this normalization should be done using moving averages. That's not the focus of this tutorial, and the validation and test sets ensure that you get (somewhat) honest metrics. So, in the interest of simplicity this tutorial uses a simple average.\n",
    "\n"
   ]
  },
  {
   "cell_type": "code",
   "execution_count": 4,
   "metadata": {},
   "outputs": [],
   "source": [
    "# 70 - 10 - 10 split\n",
    "ts_train_original, ts_nontrain_original = ts.split_before(0.8)\n",
    "ts_val_original, ts_test_original = ts_nontrain_original.split_before(0.5)"
   ]
  },
  {
   "cell_type": "code",
   "execution_count": 5,
   "metadata": {},
   "outputs": [],
   "source": [
    "# transformer = Scaler(MinMaxScaler())\n",
    "transformer = Scaler(StandardScaler())\n",
    "\n",
    "\n",
    "ts_train_transformed: TimeSeries = transformer.fit_transform(ts_train_original)  # type: ignore\n",
    "ts_val_transformed: TimeSeries = transformer.transform(ts_val_original)  # type: ignore\n",
    "ts_test_transformed: TimeSeries = transformer.transform(ts_test_original)  # type: ignore"
   ]
  },
  {
   "cell_type": "markdown",
   "metadata": {},
   "source": [
    "## ARIMA Training"
   ]
  },
  {
   "cell_type": "code",
   "execution_count": 6,
   "metadata": {},
   "outputs": [],
   "source": [
    "def separate(ts: TimeSeries) -> list[TimeSeries]:\n",
    "    return [ts.univariate_component(i) for i in range(ts.n_components)]\n",
    "\n",
    "\n",
    "def fit_univariate(\n",
    "    data: TimeSeries,\n",
    "    model_cls: type[ForecastingModel],\n",
    "    model_cls_kwargs: Optional[dict[str, Any]] = None,\n",
    ") -> ForecastingModel:\n",
    "    if model_cls_kwargs is None:\n",
    "        model_cls_kwargs = {}\n",
    "\n",
    "    model = model_cls(**model_cls_kwargs)\n",
    "    model.fit(data)\n",
    "\n",
    "    return model"
   ]
  },
  {
   "cell_type": "code",
   "execution_count": 7,
   "metadata": {},
   "outputs": [],
   "source": [
    "TH = 12*14\n",
    "FH = 12*1"
   ]
  },
  {
   "cell_type": "code",
   "execution_count": 8,
   "metadata": {},
   "outputs": [],
   "source": [
    "from darts.models import Prophet"
   ]
  },
  {
   "cell_type": "code",
   "execution_count": 9,
   "metadata": {},
   "outputs": [
    {
     "name": "stderr",
     "output_type": "stream",
     "text": [
      "00:03:25 - cmdstanpy - INFO - Chain [1] start processing\n",
      "00:03:25 - cmdstanpy - INFO - Chain [1] start processing\n",
      "00:03:25 - cmdstanpy - INFO - Chain [1] start processing\n",
      "00:03:25 - cmdstanpy - INFO - Chain [1] start processing\n",
      "00:03:25 - cmdstanpy - INFO - Chain [1] start processing\n",
      "00:03:25 - cmdstanpy - INFO - Chain [1] start processing\n",
      "00:03:25 - cmdstanpy - INFO - Chain [1] start processing\n",
      "00:03:25 - cmdstanpy - INFO - Chain [1] start processing\n",
      "00:03:25 - cmdstanpy - INFO - Chain [1] start processing\n",
      "00:03:25 - cmdstanpy - INFO - Chain [1] start processing\n",
      "00:03:25 - cmdstanpy - INFO - Chain [1] start processing\n",
      "00:03:25 - cmdstanpy - INFO - Chain [1] start processing\n",
      "00:03:25 - cmdstanpy - INFO - Chain [1] start processing\n",
      "00:03:25 - cmdstanpy - INFO - Chain [1] start processing\n",
      "00:03:25 - cmdstanpy - INFO - Chain [1] start processing\n",
      "00:03:25 - cmdstanpy - INFO - Chain [1] start processing\n",
      "00:03:25 - cmdstanpy - INFO - Chain [1] done processing\n",
      "00:03:26 - cmdstanpy - INFO - Chain [1] done processing\n",
      "00:03:26 - cmdstanpy - INFO - Chain [1] done processing\n",
      "00:03:26 - cmdstanpy - INFO - Chain [1] start processing\n",
      "00:03:26 - cmdstanpy - INFO - Chain [1] done processing\n",
      "00:03:26 - cmdstanpy - INFO - Chain [1] done processing\n",
      "00:03:26 - cmdstanpy - INFO - Chain [1] done processing\n",
      "00:03:26 - cmdstanpy - INFO - Chain [1] done processing\n",
      "00:03:26 - cmdstanpy - INFO - Chain [1] start processing\n",
      "00:03:26 - cmdstanpy - INFO - Chain [1] start processing\n",
      "00:03:26 - cmdstanpy - INFO - Chain [1] done processing\n",
      "00:03:26 - cmdstanpy - INFO - Chain [1] start processing\n",
      "00:03:26 - cmdstanpy - INFO - Chain [1] start processing\n",
      "00:03:26 - cmdstanpy - INFO - Chain [1] done processing\n",
      "00:03:27 - cmdstanpy - INFO - Chain [1] done processing\n",
      "00:03:27 - cmdstanpy - INFO - Chain [1] start processing\n",
      "00:03:27 - cmdstanpy - INFO - Chain [1] done processing\n",
      "00:03:27 - cmdstanpy - INFO - Chain [1] start processing\n",
      "00:03:27 - cmdstanpy - INFO - Chain [1] done processing\n",
      "00:03:27 - cmdstanpy - INFO - Chain [1] start processing\n",
      "00:03:27 - cmdstanpy - INFO - Chain [1] done processing\n",
      "00:03:27 - cmdstanpy - INFO - Chain [1] done processing\n",
      "00:03:27 - cmdstanpy - INFO - Chain [1] start processing\n",
      "00:03:27 - cmdstanpy - INFO - Chain [1] done processing\n",
      "00:03:27 - cmdstanpy - INFO - Chain [1] done processing\n",
      "00:03:27 - cmdstanpy - INFO - Chain [1] start processing\n",
      "00:03:27 - cmdstanpy - INFO - Chain [1] start processing\n",
      "00:03:27 - cmdstanpy - INFO - Chain [1] done processing\n",
      "00:03:27 - cmdstanpy - INFO - Chain [1] start processing\n",
      "00:03:27 - cmdstanpy - INFO - Chain [1] done processing\n",
      "00:03:27 - cmdstanpy - INFO - Chain [1] done processing\n",
      "00:03:27 - cmdstanpy - INFO - Chain [1] start processing\n",
      "00:03:27 - cmdstanpy - INFO - Chain [1] start processing\n",
      "00:03:27 - cmdstanpy - INFO - Chain [1] done processing\n",
      "00:03:27 - cmdstanpy - INFO - Chain [1] start processing\n",
      "00:03:28 - cmdstanpy - INFO - Chain [1] start processing\n",
      "00:03:28 - cmdstanpy - INFO - Chain [1] done processing\n",
      "00:03:28 - cmdstanpy - INFO - Chain [1] start processing\n",
      "00:03:28 - cmdstanpy - INFO - Chain [1] start processing\n",
      "00:03:28 - cmdstanpy - INFO - Chain [1] start processing\n",
      "00:03:28 - cmdstanpy - INFO - Chain [1] done processing\n",
      "00:03:28 - cmdstanpy - INFO - Chain [1] start processing\n",
      "00:03:28 - cmdstanpy - INFO - Chain [1] done processing\n",
      "00:03:28 - cmdstanpy - INFO - Chain [1] done processing\n",
      "00:03:28 - cmdstanpy - INFO - Chain [1] start processing\n",
      "00:03:28 - cmdstanpy - INFO - Chain [1] start processing\n",
      "00:03:28 - cmdstanpy - INFO - Chain [1] done processing\n",
      "00:03:28 - cmdstanpy - INFO - Chain [1] start processing\n",
      "00:03:28 - cmdstanpy - INFO - Chain [1] done processing\n",
      "00:03:29 - cmdstanpy - INFO - Chain [1] start processing\n",
      "00:03:29 - cmdstanpy - INFO - Chain [1] done processing\n",
      "00:03:29 - cmdstanpy - INFO - Chain [1] done processing\n",
      "00:03:29 - cmdstanpy - INFO - Chain [1] start processing\n",
      "00:03:29 - cmdstanpy - INFO - Chain [1] start processing\n",
      "00:03:29 - cmdstanpy - INFO - Chain [1] done processing\n",
      "00:03:29 - cmdstanpy - INFO - Chain [1] done processing\n",
      "00:03:29 - cmdstanpy - INFO - Chain [1] done processing\n",
      "00:03:29 - cmdstanpy - INFO - Chain [1] done processing\n",
      "00:03:29 - cmdstanpy - INFO - Chain [1] done processing\n",
      "00:03:29 - cmdstanpy - INFO - Chain [1] start processing\n",
      "00:03:29 - cmdstanpy - INFO - Chain [1] start processing\n",
      "00:03:29 - cmdstanpy - INFO - Chain [1] done processing\n",
      "00:03:29 - cmdstanpy - INFO - Chain [1] done processing\n",
      "00:03:29 - cmdstanpy - INFO - Chain [1] done processing\n",
      "00:03:29 - cmdstanpy - INFO - Chain [1] start processing\n",
      "00:03:30 - cmdstanpy - INFO - Chain [1] done processing\n",
      "00:03:30 - cmdstanpy - INFO - Chain [1] start processing\n",
      "00:03:30 - cmdstanpy - INFO - Chain [1] start processing\n",
      "00:03:30 - cmdstanpy - INFO - Chain [1] done processing\n",
      "00:03:30 - cmdstanpy - INFO - Chain [1] done processing\n",
      "00:03:30 - cmdstanpy - INFO - Chain [1] start processing\n",
      "00:03:30 - cmdstanpy - INFO - Chain [1] start processing\n",
      "00:03:30 - cmdstanpy - INFO - Chain [1] done processing\n",
      "00:03:30 - cmdstanpy - INFO - Chain [1] start processing\n",
      "00:03:30 - cmdstanpy - INFO - Chain [1] done processing\n",
      "00:03:30 - cmdstanpy - INFO - Chain [1] done processing\n",
      "00:03:30 - cmdstanpy - INFO - Chain [1] done processing\n",
      "00:03:30 - cmdstanpy - INFO - Chain [1] done processing\n",
      "00:03:30 - cmdstanpy - INFO - Chain [1] done processing\n",
      "00:03:30 - cmdstanpy - INFO - Chain [1] done processing\n",
      "00:03:30 - cmdstanpy - INFO - Chain [1] done processing\n",
      "00:03:30 - cmdstanpy - INFO - Chain [1] done processing\n",
      "00:03:30 - cmdstanpy - INFO - Chain [1] done processing\n",
      "00:03:30 - cmdstanpy - INFO - Chain [1] done processing\n"
     ]
    }
   ],
   "source": [
    "fit_autoarima: Callable[[TimeSeries], AutoARIMA] = partial(fit_univariate, model_cls=Prophet)  # type: ignore\n",
    "\n",
    "with Pool() as pool:\n",
    "    res = pool.map(fit_autoarima, separate(ts_train_original))\n",
    "\n",
    "\n",
    "# with open(\"arima_results.pkl\", \"wb\") as f:\n",
    "#     pickle.dump(res, f)"
   ]
  },
  {
   "cell_type": "code",
   "execution_count": 6,
   "metadata": {},
   "outputs": [],
   "source": [
    "# with open(\"arima_results.pkl\", \"rb\") as f:\n",
    "#     res: list[AutoARIMA] = pickle.load(f)"
   ]
  },
  {
   "cell_type": "code",
   "execution_count": 10,
   "metadata": {},
   "outputs": [
    {
     "ename": "AttributeError",
     "evalue": "'Prophet' object has no attribute 'summary'",
     "output_type": "error",
     "traceback": [
      "\u001b[0;31m---------------------------------------------------------------------------\u001b[0m",
      "\u001b[0;31mAttributeError\u001b[0m                            Traceback (most recent call last)",
      "Cell \u001b[0;32mIn[10], line 1\u001b[0m\n\u001b[0;32m----> 1\u001b[0m \u001b[43mres\u001b[49m\u001b[43m[\u001b[49m\u001b[38;5;241;43m1\u001b[39;49m\u001b[43m]\u001b[49m\u001b[38;5;241;43m.\u001b[39;49m\u001b[43mmodel\u001b[49m\u001b[38;5;241;43m.\u001b[39;49m\u001b[43msummary\u001b[49m()\n",
      "\u001b[0;31mAttributeError\u001b[0m: 'Prophet' object has no attribute 'summary'"
     ]
    }
   ],
   "source": [
    "res[1].model.summary()"
   ]
  },
  {
   "cell_type": "code",
   "execution_count": 11,
   "metadata": {},
   "outputs": [
    {
     "data": {
      "text/plain": [
       "<Axes: xlabel='time'>"
      ]
     },
     "execution_count": 11,
     "metadata": {},
     "output_type": "execute_result"
    },
    {
     "data": {
      "image/png": "[encoded data removed]",
      "text/plain": [
       "<Figure size 640x480 with 1 Axes>"
      ]
     },
     "metadata": {},
     "output_type": "display_data"
    }
   ],
   "source": [
    "i = 8\n",
    "n = 12\n",
    "separate(ts_train_original)[i][-24*7:].plot()\n",
    "separate(ts_val_original)[i][:n].plot()\n",
    "res[i].predict(n).plot()\n"
   ]
  },
  {
   "cell_type": "markdown",
   "metadata": {},
   "source": [
    "## Other"
   ]
  },
  {
   "cell_type": "code",
   "execution_count": 16,
   "metadata": {},
   "outputs": [],
   "source": [
    "model = NBEATSModel(\n",
    "    input_chunk_length=7 * 12,  # 7 days\n",
    "    output_chunk_length=1 * 12,  # 1 day\n",
    "    optimizer_kwargs=dict(\n",
    "        lr=1e-3,\n",
    "    ),\n",
    "    pl_trainer_kwargs=dict(\n",
    "        accelerator=\"gpu\",\n",
    "        devices=[0],\n",
    "    ),\n",
    ")\n",
    "\n",
    "model.fit(\n",
    "    series=ts_train_transformed,\n",
    "    val_series=ts_val_transformed,\n",
    "    epochs=10,\n",
    "    num_loader_workers=2,\n",
    ")\n",
    "\n",
    "def fit(model_cls, model_params, data):\n",
    "    model = model_cls(**model_params)\n",
    "    model.fit(data)\n",
    "    return model\n",
    "    \n",
    "    "
   ]
  },
  {
   "cell_type": "code",
   "execution_count": 66,
   "metadata": {},
   "outputs": [
    {
     "name": "stderr",
     "output_type": "stream",
     "text": [
      "GPU available: True (cuda), used: True\n",
      "TPU available: False, using: 0 TPU cores\n",
      "IPU available: False, using: 0 IPUs\n",
      "HPU available: False, using: 0 HPUs\n",
      "You are using a CUDA device ('NVIDIA GeForce RTX 3060 Laptop GPU') that has Tensor Cores. To properly utilize them, you should set `torch.set_float32_matmul_precision('medium' | 'high')` which will trade-off precision for performance. For more details, read https://pytorch.org/docs/stable/generated/torch.set_float32_matmul_precision.html#torch.set_float32_matmul_precision\n",
      "LOCAL_RANK: 0 - CUDA_VISIBLE_DEVICES: [0]\n"
     ]
    },
    {
     "name": "stdout",
     "output_type": "stream",
     "text": [
      "Predicting DataLoader 0: 100%|██████████| 1/1 [00:00<00:00, 18.72it/s]\n"
     ]
    }
   ],
   "source": [
    "preds = transformer.inverse_transform(\n",
    "    model.predict(n=1 * 12, series=ts_test_transformed[: 7 * 12])\n",
    ")"
   ]
  },
  {
   "cell_type": "code",
   "execution_count": 75,
   "metadata": {},
   "outputs": [
    {
     "data": {
      "text/plain": [
       "Timestamp('2014-08-15 16:00:00', freq='2H')"
      ]
     },
     "execution_count": 75,
     "metadata": {},
     "output_type": "execute_result"
    }
   ],
   "source": [
    "preds.end_time()"
   ]
  },
  {
   "cell_type": "code",
   "execution_count": 74,
   "metadata": {},
   "outputs": [
    {
     "data": {
      "text/plain": [
       "Timestamp('2014-08-15 16:00:00', freq='2H')"
      ]
     },
     "execution_count": 74,
     "metadata": {},
     "output_type": "execute_result"
    }
   ],
   "source": [
    "ts_test_original[7 * 12 : 8 * 12].end_time()"
   ]
  }
 ],
 "metadata": {
  "kernelspec": {
   "display_name": "env",
   "language": "python",
   "name": "python3"
  },
  "language_info": {
   "codemirror_mode": {
    "name": "ipython",
    "version": 3
   },
   "file_extension": ".py",
   "mimetype": "text/x-python",
   "name": "python",
   "nbconvert_exporter": "python",
   "pygments_lexer": "ipython3",
   "version": "3.10.13"
  },
  "orig_nbformat": 4
 },
 "nbformat": 4,
 "nbformat_minor": 2
}
