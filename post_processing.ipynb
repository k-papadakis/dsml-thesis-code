{
 "cells": [
  {
   "cell_type": "code",
   "execution_count": 31,
   "metadata": {},
   "outputs": [],
   "source": [
    "import json\n",
    "from collections.abc import Iterator\n",
    "from os import PathLike\n",
    "from pathlib import Path\n",
    "from shutil import copyfile\n",
    "\n",
    "import matplotlib.pyplot as plt\n",
    "import numpy as np\n",
    "import pandas as pd\n",
    "import seaborn as sns\n",
    "from matplotlib.figure import Figure\n",
    "from optuna import Study\n",
    "from optuna.study import get_all_study_names, load_study\n",
    "from optuna.visualization import plot_parallel_coordinate, plot_param_importances\n",
    "from prophet import Prophet\n",
    "from tensorboard.backend.event_processing.event_accumulator import EventAccumulator\n",
    "\n",
    "import thesis.dataloading\n",
    "import thesis.prophet_api"
   ]
  },
  {
   "cell_type": "markdown",
   "metadata": {},
   "source": [
    "## Series Selection"
   ]
  },
  {
   "cell_type": "code",
   "execution_count": 2,
   "metadata": {},
   "outputs": [],
   "source": [
    "def top_mid_bot(df: pd.DataFrame) -> pd.Series:\n",
    "    s = df.mean().sort_values()\n",
    "    return s.iloc[[-1, len(s)//2, 0]]  # type: ignore"
   ]
  },
  {
   "cell_type": "code",
   "execution_count": 3,
   "metadata": {},
   "outputs": [],
   "source": [
    "electricity = thesis.dataloading.load_electricity(\"./datasets/electricity\")\n",
    "traffic = thesis.dataloading.load_traffic(\"./datasets/traffic\")"
   ]
  },
  {
   "cell_type": "code",
   "execution_count": 4,
   "metadata": {},
   "outputs": [
    {
     "data": {
      "text/plain": [
       "MT_043    1112.053181\n",
       "MT_049     896.510056\n",
       "MT_008     245.642546\n",
       "MT_018     236.635178\n",
       "MT_025     197.095669\n",
       "dtype: float64"
      ]
     },
     "execution_count": 4,
     "metadata": {},
     "output_type": "execute_result"
    }
   ],
   "source": [
    "electricity.mean().nlargest(5)"
   ]
  },
  {
   "cell_type": "code",
   "execution_count": 5,
   "metadata": {},
   "outputs": [
    {
     "data": {
      "text/plain": [
       "MT_003     1.719950\n",
       "MT_001     4.641119\n",
       "MT_007     6.718817\n",
       "MT_019     7.978239\n",
       "MT_023    10.443039\n",
       "dtype: float64"
      ]
     },
     "execution_count": 5,
     "metadata": {},
     "output_type": "execute_result"
    }
   ],
   "source": [
    "\n",
    "electricity.mean().nsmallest(5)"
   ]
  },
  {
   "cell_type": "code",
   "execution_count": 15,
   "metadata": {},
   "outputs": [
    {
     "data": {
      "text/plain": [
       "MT_043    1112.053181\n",
       "MT_015      45.739936\n",
       "MT_003       1.719950\n",
       "dtype: float64"
      ]
     },
     "execution_count": 15,
     "metadata": {},
     "output_type": "execute_result"
    }
   ],
   "source": [
    "top_mid_bot(electricity)"
   ]
  },
  {
   "cell_type": "code",
   "execution_count": 7,
   "metadata": {},
   "outputs": [
    {
     "data": {
      "text/plain": [
       "400041    0.079530\n",
       "400071    0.055126\n",
       "400015    0.031022\n",
       "dtype: float64"
      ]
     },
     "execution_count": 7,
     "metadata": {},
     "output_type": "execute_result"
    }
   ],
   "source": [
    "top_mid_bot(traffic)"
   ]
  },
  {
   "cell_type": "markdown",
   "metadata": {},
   "source": [
    "## Prophet images"
   ]
  },
  {
   "cell_type": "code",
   "execution_count": 17,
   "metadata": {},
   "outputs": [],
   "source": [
    "\"./output/original_output/electricity/prophet/\"\n",
    "\n",
    "\n",
    "for dataset_name in \"electricity\", \"traffic\":\n",
    "\n",
    "    if dataset_name == \"electricity\":\n",
    "        loader = thesis.dataloading.load_electricity\n",
    "    elif dataset_name == \"traffic\":\n",
    "        loader = thesis.dataloading.load_traffic\n",
    "    else:\n",
    "        raise ValueError(f\"Invalid dataset name: {dataset_name}\")\n",
    "\n",
    "    df = loader(Path(\"datasets\", dataset_name))\n",
    "\n",
    "    for rank, series_name in zip((\"top\", \"mid\", \"bot\"), top_mid_bot(df).keys()):\n",
    "        src = Path(\"output\", \"original_output\", dataset_name, \"prophet\", series_name)\n",
    "        tgt = Path(\n",
    "            \"..\", \"dsml-thesis-text\", \"figures\", \"results\", dataset_name, \"prophet\"\n",
    "        )\n",
    "\n",
    "        copyfile(\n",
    "            src / \"components.png\",\n",
    "            tgt / \"components\" / f\"{rank}.png\",\n",
    "        )\n",
    "        copyfile(\n",
    "            src / \"forecasts.png\",\n",
    "            tgt / \"predictions\" / f\"{rank}.png\",\n",
    "        )\n",
    "        copyfile(\n",
    "            src / \"model.png\",\n",
    "            tgt / \"models\" / f\"{rank}.png\",\n",
    "        )\n",
    "        copyfile(\n",
    "            src / \"cv.png\",\n",
    "            tgt / \"cvs\" / f\"{rank}.png\",\n",
    "        )"
   ]
  },
  {
   "cell_type": "markdown",
   "metadata": {},
   "source": [
    "## Aggregate Metrics"
   ]
  },
  {
   "cell_type": "code",
   "execution_count": 6,
   "metadata": {},
   "outputs": [],
   "source": [
    "def iter_events(\n",
    "    path: str | PathLike[str],\n",
    ") -> Iterator[tuple[str, str, EventAccumulator]]:\n",
    "    path = Path(path)\n",
    "    for x in path.glob(\"**/events.out.tfevents*\"):\n",
    "        model = x.parents[2].name\n",
    "        dataset = x.parents[3].name\n",
    "        event_acc = EventAccumulator(str(x))\n",
    "        event_acc.Reload()\n",
    "        yield dataset, model, event_acc\n",
    "\n",
    "\n",
    "def extract_metrics(dataset_path: str | PathLike[str]) -> pd.DataFrame:\n",
    "    metrics = [\"test_MASE\", \"test_SMAPE\", \"test_RMSE\", \"test_MAE\", \"test_MAPE\"]\n",
    "\n",
    "    res = {}\n",
    "\n",
    "    for _, model, event_acc in iter_events(dataset_path):\n",
    "\n",
    "        scalars = event_acc.Tags()[\"scalars\"]\n",
    "\n",
    "        if metrics[0] in scalars:\n",
    "            res[model] = [event_acc.Scalars(metric)[0].value for metric in metrics]\n",
    "\n",
    "    df = pd.DataFrame.from_dict(\n",
    "        res, orient=\"index\", columns=[m.removeprefix(\"test_\").lower() for m in metrics]\n",
    "    )\n",
    "\n",
    "    return df"
   ]
  },
  {
   "cell_type": "code",
   "execution_count": 7,
   "metadata": {},
   "outputs": [
    {
     "name": "stdout",
     "output_type": "stream",
     "text": [
      "\\begin{table}\n",
      "\\caption{Performance of the models on the Electricity Load Diagrams dataset.}\n",
      "\\label{tab:electricity_performance}\n",
      "\\begin{tabular}{lrrrr}\n",
      "\\toprule\n",
      " & mase & smape & rmse & mae \\\\\n",
      "\\midrule\n",
      "nbeats & 0.84079 & 0.10411 & 18.27056 & 7.59723 \\\\\n",
      "deepvar & 0.65603 & 0.07951 & 15.06193 & 5.91165 \\\\\n",
      "deepar & 0.63647 & 0.07828 & 14.04843 & 5.58480 \\\\\n",
      "tft & 0.86392 & 0.10267 & 20.64952 & 7.88064 \\\\\n",
      "\\bottomrule\n",
      "\\end{tabular}\n",
      "\\end{table}\n",
      "\n"
     ]
    }
   ],
   "source": [
    "print(\n",
    "    extract_metrics(\"output/original_output/electricity/\")\n",
    "    .drop(columns=\"mape\")\n",
    "    .to_latex(\n",
    "        # f\"../dsml-thesis-text/tables/electricity_metrics.tex\",\n",
    "        float_format=\"%.5f\",\n",
    "        caption=f\"Performance of the models on the Electricity Load Diagrams dataset.\",\n",
    "        label=f\"tab:electricity_performance\",\n",
    "    )\n",
    ")"
   ]
  },
  {
   "cell_type": "code",
   "execution_count": 8,
   "metadata": {},
   "outputs": [
    {
     "name": "stdout",
     "output_type": "stream",
     "text": [
      "\\begin{table}\n",
      "\\caption{Performance of the models on the PeMS-SF dataset.}\n",
      "\\label{tab:traffic_performance}\n",
      "\\begin{tabular}{lrrrrr}\n",
      "\\toprule\n",
      " & mase & smape & rmse & mae & mape \\\\\n",
      "\\midrule\n",
      "nbeats & 0.43610 & 0.10053 & 0.01195 & 0.00529 & 0.13326 \\\\\n",
      "deepvar & 0.54191 & 0.16080 & 0.01073 & 0.00618 & 0.22869 \\\\\n",
      "deepar & 0.43829 & 0.08678 & 0.01083 & 0.00494 & 0.10598 \\\\\n",
      "tft & 0.40789 & 0.08864 & 0.01281 & 0.00495 & 0.10069 \\\\\n",
      "\\bottomrule\n",
      "\\end{tabular}\n",
      "\\end{table}\n",
      "\n"
     ]
    }
   ],
   "source": [
    "print(\n",
    "    extract_metrics(\"output/original_output/traffic/\").to_latex(\n",
    "        # f\"../dsml-thesis-text/tables/traffic_metrics.tex\",\n",
    "        float_format=\"%.5f\",\n",
    "        caption=f\"Performance of the models on the PeMS-SF dataset.\",\n",
    "        label=f\"tab:traffic_performance\",\n",
    "    )\n",
    ")"
   ]
  },
  {
   "cell_type": "markdown",
   "metadata": {},
   "source": [
    "# Metrics Per Series"
   ]
  },
  {
   "cell_type": "code",
   "execution_count": 9,
   "metadata": {},
   "outputs": [],
   "source": [
    "def extract_metric(dataset_path: str | PathLike[str], metric: str) -> pd.DataFrame:\n",
    "    res = {}\n",
    "\n",
    "    for model in (\"nbeats\", \"deepar\", \"deepvar\", \"tft\"):\n",
    "        d = Path(dataset_path, model)\n",
    "        p = next(d.glob(\"**/performance.csv\"))\n",
    "        s = pd.read_csv(p, index_col=0)[\"mase\"]\n",
    "        res[model] = s\n",
    "\n",
    "    p = Path(dataset_path, \"prophet\", \"results.csv\")\n",
    "    s = pd.read_csv(p, index_col=0)[metric]\n",
    "    res[\"prophet\"] = s\n",
    "\n",
    "    df = pd.DataFrame(res)\n",
    "    df = df.loc[:, [\"prophet\", \"nbeats\", \"deepar\", \"deepvar\", \"tft\"]]\n",
    "    df = df.rename(\n",
    "        columns={\n",
    "            \"nbeats\": \"N-BEATS\",\n",
    "            \"deepar\": \"DeepAR\",\n",
    "            \"deepvar\": \"DeepVAR\",\n",
    "            \"tft\": \"TFT\",\n",
    "            \"prophet\": \"Prophet\",\n",
    "        }\n",
    "    )\n",
    "\n",
    "    return df\n",
    "\n",
    "\n",
    "def metric_heatmap(df: pd.DataFrame) -> Figure:\n",
    "    fig = plt.figure(figsize=(12, 5))\n",
    "\n",
    "    sns.heatmap(\n",
    "        df.T,\n",
    "        annot=False,\n",
    "        cmap=\"magma_r\",\n",
    "        linewidths=0.5,\n",
    "        cbar_kws={\"label\": \"MASE\"},\n",
    "        xticklabels=True,\n",
    "        robust=True,\n",
    "    )\n",
    "    plt.xlabel(\"Series\")\n",
    "    plt.ylabel(\"Model\")\n",
    "    plt.tight_layout()\n",
    "    return fig"
   ]
  },
  {
   "cell_type": "code",
   "execution_count": 10,
   "metadata": {},
   "outputs": [
    {
     "data": {
      "image/png": "[encoded data removed]",
      "text/plain": [
       "<Figure size 1200x500 with 2 Axes>"
      ]
     },
     "metadata": {},
     "output_type": "display_data"
    },
    {
     "data": {
      "image/png": "[encoded data removed]",
      "text/plain": [
       "<Figure size 1200x500 with 2 Axes>"
      ]
     },
     "metadata": {},
     "output_type": "display_data"
    }
   ],
   "source": [
    "metric_heatmap(extract_metric(\"output/original_output/traffic/\", \"mase\")).savefig(\n",
    "    \"../dsml-thesis-text/figures/results/traffic/mase_heatmap.png\"\n",
    ")\n",
    "metric_heatmap(extract_metric(\"output/original_output/electricity/\", \"mase\")).savefig(\n",
    "    \"../dsml-thesis-text/figures/results/electricity/mase_heatmap.png\"\n",
    ")"
   ]
  },
  {
   "cell_type": "markdown",
   "metadata": {},
   "source": [
    "## Prophet Load"
   ]
  },
  {
   "cell_type": "code",
   "execution_count": 11,
   "metadata": {},
   "outputs": [],
   "source": [
    "paths = [p for p in Path(\"output/original_output/\").glob(\"*/prophet/*/\") if p.is_dir()]\n",
    "assert len(paths) == 100\n",
    "\n",
    "path = paths[0]\n",
    "\n",
    "params = json.loads((path / \"params.json\").read_text())\n",
    "model = Prophet(**params)"
   ]
  },
  {
   "cell_type": "markdown",
   "metadata": {},
   "source": [
    "# Optuna"
   ]
  },
  {
   "cell_type": "code",
   "execution_count": 33,
   "metadata": {},
   "outputs": [],
   "source": [
    "deepvar_electricity_study = load_study(study_name=\"electricity-deepvar\", storage=\"sqlite:///output/original_output/experiments-deepvar.db\")\n",
    "deepvar_traffic_study = load_study(study_name=\"traffic-deepvar\", storage=\"sqlite:///output/original_output/experiments-deepvar.db\")"
   ]
  },
  {
   "cell_type": "code",
   "execution_count": 26,
   "metadata": {},
   "outputs": [],
   "source": [
    "def iter_studies(storage: str) -> Iterator[tuple[str, str, Study]]:\n",
    "    for study_name in get_all_study_names(storage):\n",
    "        study = load_study(study_name=study_name, storage=storage)\n",
    "        dataset, model = study_name.split(\"-\")\n",
    "        yield dataset, model, study\n",
    "        "
   ]
  },
  {
   "cell_type": "code",
   "execution_count": 34,
   "metadata": {},
   "outputs": [
    {
     "name": "stderr",
     "output_type": "stream",
     "text": [
      "[I 2024-02-24 02:27:12,751] A new study created in RDB with name: electricity-deepvar\n",
      "[I 2024-02-24 02:27:13,463] A new study created in RDB with name: traffic-deepvar\n"
     ]
    }
   ],
   "source": [
    "# from optuna.study import copy_study\n",
    "\n",
    "# for dataset_name in \"electricity\", \"traffic\":\n",
    "#     copy_study(\n",
    "#         from_study_name=f\"{dataset_name}-deepvar\",\n",
    "#         to_study_name=f\"{dataset_name}-deepvar\",\n",
    "#         from_storage=\"sqlite:///output/original_output/experiments-deepvar.db\",\n",
    "#         to_storage=\"sqlite:///output/original_output/experiments.db\",\n",
    "#     )"
   ]
  },
  {
   "cell_type": "code",
   "execution_count": 27,
   "metadata": {},
   "outputs": [],
   "source": [
    "storage = \"sqlite:///output/original_output/experiments.db\""
   ]
  },
  {
   "cell_type": "code",
   "execution_count": 28,
   "metadata": {},
   "outputs": [],
   "source": [
    "for dataset, model, study in iter_studies(storage):\n",
    "    plot_parallel_coordinate(study).write_image(\n",
    "        f\"../dsml-thesis-text/figures/results/{dataset}/{model}/parallel_coordinates.pdf\"\n",
    "    )\n",
    "    plot_param_importances(study).write_image(\n",
    "        f\"../dsml-thesis-text/figures/results/{dataset}/{model}/param_importances.pdf\"\n",
    "    )"
   ]
  },
  {
   "cell_type": "code",
   "execution_count": 29,
   "metadata": {},
   "outputs": [],
   "source": [
    "params = pd.DataFrame.from_dict(\n",
    "    {\n",
    "        (model, dataset): study.best_params\n",
    "        for dataset, model, study in iter_studies(storage)\n",
    "    },\n",
    "    orient=\"index\",\n",
    ")"
   ]
  },
  {
   "cell_type": "code",
   "execution_count": 30,
   "metadata": {},
   "outputs": [
    {
     "name": "stdout",
     "output_type": "stream",
     "text": [
      "deepar\n",
      "\\begin{table}[H]\n",
      "\\caption{Best hyperparameter for deepar.}\n",
      "\\label{tab:deepar_best_params}\n",
      "\\begin{tabular}{lrrrr}\n",
      "\\toprule\n",
      " & hidden_size & gradient_clip_val & dropout & learning_rate \\\\\n",
      "\\midrule\n",
      "electricity & 160.000000 & 5.828862 & 0.400000 & 0.005837 \\\\\n",
      "traffic & 160.000000 & 44.437376 & 0.400000 & 0.004045 \\\\\n",
      "\\bottomrule\n",
      "\\end{tabular}\n",
      "\\end{table}\n",
      "\n",
      "\n",
      "deepvar\n",
      "\\begin{table}[H]\n",
      "\\caption{Best hyperparameter for deepvar.}\n",
      "\\label{tab:deepvar_best_params}\n",
      "\\begin{tabular}{lrrrr}\n",
      "\\toprule\n",
      " & hidden_size & gradient_clip_val & dropout & learning_rate \\\\\n",
      "\\midrule\n",
      "traffic & 160.000000 & 1.233625 & 0.300000 & 0.001032 \\\\\n",
      "electricity & 80.000000 & 96.732676 & 0.500000 & 0.006023 \\\\\n",
      "\\bottomrule\n",
      "\\end{tabular}\n",
      "\\end{table}\n",
      "\n",
      "\n",
      "nbeats\n",
      "\\begin{table}[H]\n",
      "\\caption{Best hyperparameter for nbeats.}\n",
      "\\label{tab:nbeats_best_params}\n",
      "\\begin{tabular}{lrrrrr}\n",
      "\\toprule\n",
      " & gradient_clip_val & dropout & learning_rate & trend & seasonality \\\\\n",
      "\\midrule\n",
      "electricity & 1.602350 & 0.200000 & 0.000525 & 256.000000 & 2048.000000 \\\\\n",
      "traffic & 1.256277 & 0.300000 & 0.000759 & 256.000000 & 2048.000000 \\\\\n",
      "\\bottomrule\n",
      "\\end{tabular}\n",
      "\\end{table}\n",
      "\n",
      "\n",
      "tft\n",
      "\\begin{table}[H]\n",
      "\\caption{Best hyperparameter for tft.}\n",
      "\\label{tab:tft_best_params}\n",
      "\\begin{tabular}{lrrrr}\n",
      "\\toprule\n",
      " & hidden_size & gradient_clip_val & dropout & learning_rate \\\\\n",
      "\\midrule\n",
      "electricity & 160.000000 & 0.433528 & 0.100000 & 0.006918 \\\\\n",
      "traffic & 320.000000 & 20.691346 & 0.200000 & 0.003311 \\\\\n",
      "\\bottomrule\n",
      "\\end{tabular}\n",
      "\\end{table}\n",
      "\n",
      "\n"
     ]
    }
   ],
   "source": [
    "for model, df in params.groupby(level=0):\n",
    "    df = df.dropna(axis=1, how=\"all\").reset_index(level=0, drop=True)\n",
    "    print(model)\n",
    "    print(\n",
    "        df.to_latex(\n",
    "            caption=f\"Best hyperparameter for {model}.\",\n",
    "            label=f\"tab:{model}_best_params\",\n",
    "            position=\"H\",\n",
    "        )\n",
    "    )\n",
    "    print()"
   ]
  }
 ],
 "metadata": {
  "kernelspec": {
   "display_name": "env",
   "language": "python",
   "name": "python3"
  },
  "language_info": {
   "codemirror_mode": {
    "name": "ipython",
    "version": 3
   },
   "file_extension": ".py",
   "mimetype": "text/x-python",
   "name": "python",
   "nbconvert_exporter": "python",
   "pygments_lexer": "ipython3",
   "version": "3.10.12"
  }
 },
 "nbformat": 4,
 "nbformat_minor": 2
}
